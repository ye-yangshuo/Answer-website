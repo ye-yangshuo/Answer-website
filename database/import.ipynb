{
 "cells": [
  {
   "cell_type": "markdown",
   "metadata": {},
   "source": [
    "实现将数据导入数据库的功能\n"
   ]
  },
  {
   "cell_type": "code",
   "execution_count": 1,
   "metadata": {},
   "outputs": [],
   "source": [
    "import json\n",
    "import mysql.connector\n",
    "\n",
    "#读取配置文件\n",
    "confige_path = \"D:/code/python_code/ai/zhipu/confige.json\"\n",
    "with open(confige_path, 'r', encoding='utf-8') as f:\n",
    "    config = json.load(f)\n",
    "\n",
    "transjson_path = config['transjson_path']"
   ]
  },
  {
   "cell_type": "code",
   "execution_count": null,
   "metadata": {},
   "outputs": [],
   "source": [
    "# 连接到 MySQL 数据库\n",
    "db = mysql.connector.connect(\n",
    "    host=\"localhost\",\n",
    "    user=\"root\",\n",
    "    password=\"654231\",\n",
    "    database=\"common\"\n",
    ")\n",
    "#测试连接是否成功\n",
    "print(db.is_connected())\n"
   ]
  },
  {
   "cell_type": "markdown",
   "metadata": {},
   "source": [
    "导入json文件进入数据库"
   ]
  },
  {
   "cell_type": "code",
   "execution_count": null,
   "metadata": {},
   "outputs": [],
   "source": [
    "# 创建一个数据库游标对象\n",
    "cursor = db.cursor()\n",
    "\n",
    "# 创建表\n",
    "create_table_query = \"\"\"\n",
    "CREATE TABLE questions (\n",
    "    id INT AUTO_INCREMENT PRIMARY KEY,\n",
    "    question TEXT,\n",
    "    option_a TEXT,\n",
    "    option_b TEXT,\n",
    "    option_c TEXT,\n",
    "    option_d TEXT,\n",
    "    answer TEXT,\n",
    "    explanation TEXT\n",
    ");\n",
    "\"\"\"\n",
    "cursor.execute(create_table_query)\n",
    "\n",
    "# 插入数据\n",
    "insert_query = \"\"\"\n",
    "INSERT INTO questions (question, option_a, option_b, option_c, option_d, answer, explanation)\n",
    "VALUES (%s, %s, %s, %s, %s, %s, %s)\n",
    "\"\"\"\n",
    "# 读取 JSON 文件\n",
    "with open(transjson_path, 'r', encoding='utf-8') as file:\n",
    "    data = json.load(file)\n",
    "# 遍历 JSON 数据并插入到数据库\n",
    "for item in data:\n",
    "    values = (\n",
    "        item['题目'],\n",
    "        item['选项']['A'],\n",
    "        item['选项']['B'],\n",
    "        item['选项']['C'],\n",
    "        item['选项']['D'],\n",
    "        item['答案'],\n",
    "        item['解析']\n",
    "    )\n",
    "    cursor.execute(insert_query, values)\n",
    "\n",
    "# 提交事务\n",
    "db.commit()\n",
    "\n",
    "# 关闭数据库连接\n",
    "cursor.close()\n",
    "db.close()\n"
   ]
  }
 ],
 "metadata": {
  "kernelspec": {
   "display_name": "inter",
   "language": "python",
   "name": "python3"
  },
  "language_info": {
   "codemirror_mode": {
    "name": "ipython",
    "version": 3
   },
   "file_extension": ".py",
   "mimetype": "text/x-python",
   "name": "python",
   "nbconvert_exporter": "python",
   "pygments_lexer": "ipython3",
   "version": "3.9.0"
  }
 },
 "nbformat": 4,
 "nbformat_minor": 2
}
