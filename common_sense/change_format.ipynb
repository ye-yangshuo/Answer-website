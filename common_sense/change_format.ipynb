{
 "cells": [
  {
   "cell_type": "code",
   "execution_count": 17,
   "metadata": {},
   "outputs": [],
   "source": [
    "from zhipuai import ZhipuAI\n",
    "import json\n",
    "import mysql.connector\n",
    "\n",
    "# 读取配置文件\n",
    "confige_path = \"D:/code/python_code/ai/zhipu/confige.json\"\n",
    "with open(confige_path,\"r\",encoding=\"utf-8\") as f:\n",
    "    confige = json.load(f)  \n",
    "\n",
    "sourcefile_path = confige[\"sourcefile_path\"]\n",
    "aitrans_path = confige[\"aitrans_path\"]\n",
    "filter_path = confige[\"filter_path\"]\n",
    "filtered_output_path = confige[\"filtered_output_path\"]\n",
    "transjson_path = confige[\"transjson_path\"]\n"
   ]
  },
  {
   "cell_type": "markdown",
   "metadata": {},
   "source": [
    "通过智谱ai的api将源数据转换成（题目-选项-答案-解析）格式"
   ]
  },
  {
   "cell_type": "code",
   "execution_count": null,
   "metadata": {},
   "outputs": [],
   "source": [
    "client = ZhipuAI(api_key=\"297dc7f0e8dcbe31a21426081d8e9ee0.7OlrOM13fTTnhWdP\")\n",
    "\n",
    "\"\"\"\n",
    "    完成情况:common1.txt文件已经完成转换\n",
    "\"\"\"\n",
    "#获取文件行数，用于循环\n",
    "line_count = 0\n",
    "with open(sourcefile_path, \"r\", encoding=\"utf-8\") as f:\n",
    "    lines = f.readlines()\n",
    "    line_count = len(lines)\n",
    "\n",
    "for line in range(1, line_count):\n",
    "    data = \"\"\n",
    "    with open(sourcefile_path, \"r\", encoding=\"utf-8\") as f:\n",
    "        data = lines[line-1]\n",
    "    messages = [\n",
    "{\"role\":\"user\",\n",
    " \"content\":\"我的要求：不要输出我说的话；格式:(题目\\n选项:A. \\nB. \\nC. \\nD. \\n答案\\n解析:\\n);每一个选项里都要有内容，解析只要一行，我提供的信息:\"+data} ]\n",
    "    response = client.chat.completions.create(messages= messages,model=\"glm-4-flash\")\n",
    "    with open(aitrans_path, \"a\", encoding=\"utf-8\") as f:\n",
    "        f.write(response.choices[0].message.content+\"\\n\")\n"
   ]
  },
  {
   "cell_type": "markdown",
   "metadata": {},
   "source": [
    "对转换后的数据进行数据处理"
   ]
  },
  {
   "cell_type": "code",
   "execution_count": null,
   "metadata": {},
   "outputs": [],
   "source": [
    "\"\"\"\n",
    "    获取没有空行的数据文件\n",
    "\"\"\"\n",
    "# 读取文件并过滤空行\n",
    "with open(aitrans_path, \"r\", encoding=\"utf-8\") as f:\n",
    "    lines = f.readlines()\n",
    "    filtered_lines = filter(lambda x: x.strip(), lines)\n",
    "# 将过滤后的行写入新的文件\n",
    "with open(filter_path, \"w\", encoding=\"utf-8\") as f:\n",
    "    f.write(\"\".join(filtered_lines))\n",
    "\n",
    "\"\"\"\n",
    "    过滤文件中损坏的数据\n",
    "\"\"\"\n",
    "line_number = 0\n",
    "lines_to_remove = []\n",
    "# 读取文件并确定要删除的行\n",
    "with open(filter_path, 'r', encoding='utf-8') as file:\n",
    "    for line in file:\n",
    "        line_number += 1\n",
    "        if line.strip() == \"题目\":\n",
    "            lines_to_remove.append(line_number)\n",
    "            flag = True\n",
    "        if line.startswith(\"题目\") and len(line) > len(\"题目：\"):\n",
    "            flag = False\n",
    "        if flag:\n",
    "            lines_to_remove.append(line_number)\n",
    "# 写入文件时排除要删除的行\n",
    "with open(filter_path, 'r', encoding='utf-8') as file, \\\n",
    "     open(filtered_output_path, 'w', encoding='utf-8') as filtered_file:\n",
    "    current_line_number = 0\n",
    "    for line in file:\n",
    "        current_line_number += 1\n",
    "        if current_line_number not in lines_to_remove:\n",
    "            filtered_file.write(line)\n",
    "\n",
    "\"\"\"\n",
    "    检查数据中是否还有损坏的数据\n",
    "\"\"\"\n",
    "line_number = 0\n",
    "with open(filtered_output_path, 'r', encoding='utf-8') as file:\n",
    "    for line in file:\n",
    "        line_number += 1\n",
    "        if line.strip() == \"题目\":\n",
    "            print(line_number)\n",
    "\n"
   ]
  },
  {
   "cell_type": "markdown",
   "metadata": {},
   "source": [
    "将文件格式转换成json格式"
   ]
  },
  {
   "cell_type": "code",
   "execution_count": 22,
   "metadata": {},
   "outputs": [],
   "source": [
    "def convert_to_json(file_path):\n",
    "    # 初始化一个空列表来存储数据\n",
    "    data = []\n",
    "\n",
    "    # 打开文件并逐行读取\n",
    "    with open(file_path, 'r', encoding='utf-8') as file:\n",
    "        lines = file.readlines()\n",
    "\n",
    "    # 初始化一个字典来存储当前问题的数据\n",
    "    current_question = {}\n",
    "\n",
    "    # 遍历每一行并处理它们\n",
    "    for i, line in enumerate(lines):\n",
    "        line = line.strip()  # 移除行首行尾的空白字符\n",
    "\n",
    "        # 根据行的位置确定其角色\n",
    "        if i % 8 == 0:\n",
    "            current_question['题目'] = line[3:] if line.startswith('题目：') else line\n",
    "        elif i % 8 == 1:\n",
    "            current_question['选项'] = {}\n",
    "        elif i % 8 in [2, 3, 4, 5]:\n",
    "            option = line[0]  # 提取选项字母（A, B, C, 或 D）\n",
    "            current_question['选项'][option] = line[2:]  # 存储选项的内容\n",
    "        elif i % 8 == 6:\n",
    "            current_question['答案'] = line[3:] if line.startswith('答案：') else line\n",
    "        elif i % 8 == 7:\n",
    "            current_question['解析'] = line[3:] if line.startswith('解析：') else line\n",
    "            # 将当前问题添加到数据列表中并重置字典\n",
    "            data.append(current_question)\n",
    "            current_question = {}\n",
    "\n",
    "    # 将数据列表转换为JSON格式\n",
    "    json_data = json.dumps(data, ensure_ascii=False, indent=4)\n",
    "    return json_data\n",
    "\n",
    "\n",
    "with open(transjson_path, 'w', encoding='utf-8') as output_file:\n",
    "    output_file.write(convert_to_json(filtered_output_path))\n"
   ]
  }
 ],
 "metadata": {
  "kernelspec": {
   "display_name": "inter",
   "language": "python",
   "name": "python3"
  },
  "language_info": {
   "codemirror_mode": {
    "name": "ipython",
    "version": 3
   },
   "file_extension": ".py",
   "mimetype": "text/x-python",
   "name": "python",
   "nbconvert_exporter": "python",
   "pygments_lexer": "ipython3",
   "version": "3.9.0"
  }
 },
 "nbformat": 4,
 "nbformat_minor": 2
}
