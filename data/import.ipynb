{
 "cells": [
  {
   "cell_type": "markdown",
   "metadata": {},
   "source": [
    "实现数据导入数据库\n",
    "\n",
    "输入：json格式数据\n",
    "\n",
    "输出：数据库中的表"
   ]
  },
  {
   "cell_type": "code",
   "execution_count": 1,
   "metadata": {},
   "outputs": [],
   "source": [
    "import json\n",
    "import mysql.connector\n",
    "\n",
    "#读取配置文件\n",
    "confige_path = \"../confige.json\"\n",
    "with open(confige_path, 'r', encoding='utf-8') as f:\n",
    "    config = json.load(f)\n",
    "\n",
    "transjson_path = config['transjson_path']"
   ]
  },
  {
   "cell_type": "code",
   "execution_count": null,
   "metadata": {},
   "outputs": [],
   "source": [
    "# 连接到 MySQL 数据库\n",
    "db = mysql.connector.connect(\n",
    "    host=\"localhost\",\n",
    "    user=\"root\",\n",
    "    password=\"654231\",\n",
    "    database=\"common\"\n",
    ")\n",
    "print(db.is_connected())\n",
    "\n",
    "cursor = db.cursor()\n"
   ]
  },
  {
   "cell_type": "markdown",
   "metadata": {},
   "source": [
    "导入json文件进入数据库"
   ]
  },
  {
   "cell_type": "code",
   "execution_count": 110,
   "metadata": {},
   "outputs": [],
   "source": [
    "#插入数据时确保表已经创建\n",
    "\n",
    "# 插入数据,注意修改表名\n",
    "insert_query =\"\"\"\n",
    "INSERT INTO questions1 (question, option_a, option_b, option_c, option_d, answer, explanation)\n",
    "VALUES (%s, %s, %s, %s, %s, %s, %s)\n",
    "\"\"\"\n",
    "\n",
    "with open(transjson_path, 'r', encoding='utf-8') as file:\n",
    "    data = json.load(file)\n",
    "for i,item in enumerate(data):\n",
    "    values = (\n",
    "        item['题目'],\n",
    "        item['选项']['A'],\n",
    "        item['选项']['B'],\n",
    "        item['选项']['C'],\n",
    "        item['选项']['D'],\n",
    "        item['答案'],\n",
    "        item['解析']\n",
    "    )\n",
    "\n",
    "    cursor.execute(insert_query, values)\n",
    "# 提交事务\n",
    "db.commit()\n",
    "# 关闭数据库连接\n",
    "cursor.close()\n",
    "db.close()"
   ]
  }
 ],
 "metadata": {
  "kernelspec": {
   "display_name": "inter",
   "language": "python",
   "name": "python3"
  },
  "language_info": {
   "codemirror_mode": {
    "name": "ipython",
    "version": 3
   },
   "file_extension": ".py",
   "mimetype": "text/x-python",
   "name": "python",
   "nbconvert_exporter": "python",
   "pygments_lexer": "ipython3",
   "version": "3.9.0"
  }
 },
 "nbformat": 4,
 "nbformat_minor": 2
}
