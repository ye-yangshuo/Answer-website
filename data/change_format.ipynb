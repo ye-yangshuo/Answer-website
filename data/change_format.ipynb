{
 "cells": [
  {
   "cell_type": "code",
   "execution_count": 1,
   "metadata": {},
   "outputs": [
    {
     "ename": "FileNotFoundError",
     "evalue": "[Errno 2] No such file or directory: 'D:/code/python_code/ai/zhipu/confige.json'",
     "output_type": "error",
     "traceback": [
      "\u001b[1;31m---------------------------------------------------------------------------\u001b[0m",
      "\u001b[1;31mFileNotFoundError\u001b[0m                         Traceback (most recent call last)",
      "Cell \u001b[1;32mIn[1], line 6\u001b[0m\n\u001b[0;32m      4\u001b[0m \u001b[38;5;66;03m# 读取配置文件\u001b[39;00m\n\u001b[0;32m      5\u001b[0m confige_path \u001b[38;5;241m=\u001b[39m \u001b[38;5;124m\"\u001b[39m\u001b[38;5;124mD:/code/python_code/ai/zhipu/confige.json\u001b[39m\u001b[38;5;124m\"\u001b[39m\n\u001b[1;32m----> 6\u001b[0m \u001b[38;5;28;01mwith\u001b[39;00m \u001b[38;5;28;43mopen\u001b[39;49m\u001b[43m(\u001b[49m\u001b[43mconfige_path\u001b[49m\u001b[43m,\u001b[49m\u001b[38;5;124;43m\"\u001b[39;49m\u001b[38;5;124;43mr\u001b[39;49m\u001b[38;5;124;43m\"\u001b[39;49m\u001b[43m,\u001b[49m\u001b[43mencoding\u001b[49m\u001b[38;5;241;43m=\u001b[39;49m\u001b[38;5;124;43m\"\u001b[39;49m\u001b[38;5;124;43mutf-8\u001b[39;49m\u001b[38;5;124;43m\"\u001b[39;49m\u001b[43m)\u001b[49m \u001b[38;5;28;01mas\u001b[39;00m f:\n\u001b[0;32m      7\u001b[0m     confige \u001b[38;5;241m=\u001b[39m json\u001b[38;5;241m.\u001b[39mload(f)  \n\u001b[0;32m      9\u001b[0m sourcefile_path \u001b[38;5;241m=\u001b[39m confige[\u001b[38;5;124m\"\u001b[39m\u001b[38;5;124msourcefile_path\u001b[39m\u001b[38;5;124m\"\u001b[39m]\n",
      "File \u001b[1;32md:\\code\\miniconda\\envs\\inter\\lib\\site-packages\\IPython\\core\\interactiveshell.py:310\u001b[0m, in \u001b[0;36m_modified_open\u001b[1;34m(file, *args, **kwargs)\u001b[0m\n\u001b[0;32m    303\u001b[0m \u001b[38;5;28;01mif\u001b[39;00m file \u001b[38;5;129;01min\u001b[39;00m {\u001b[38;5;241m0\u001b[39m, \u001b[38;5;241m1\u001b[39m, \u001b[38;5;241m2\u001b[39m}:\n\u001b[0;32m    304\u001b[0m     \u001b[38;5;28;01mraise\u001b[39;00m \u001b[38;5;167;01mValueError\u001b[39;00m(\n\u001b[0;32m    305\u001b[0m         \u001b[38;5;124mf\u001b[39m\u001b[38;5;124m\"\u001b[39m\u001b[38;5;124mIPython won\u001b[39m\u001b[38;5;124m'\u001b[39m\u001b[38;5;124mt let you open fd=\u001b[39m\u001b[38;5;132;01m{\u001b[39;00mfile\u001b[38;5;132;01m}\u001b[39;00m\u001b[38;5;124m by default \u001b[39m\u001b[38;5;124m\"\u001b[39m\n\u001b[0;32m    306\u001b[0m         \u001b[38;5;124m\"\u001b[39m\u001b[38;5;124mas it is likely to crash IPython. If you know what you are doing, \u001b[39m\u001b[38;5;124m\"\u001b[39m\n\u001b[0;32m    307\u001b[0m         \u001b[38;5;124m\"\u001b[39m\u001b[38;5;124myou can use builtins\u001b[39m\u001b[38;5;124m'\u001b[39m\u001b[38;5;124m open.\u001b[39m\u001b[38;5;124m\"\u001b[39m\n\u001b[0;32m    308\u001b[0m     )\n\u001b[1;32m--> 310\u001b[0m \u001b[38;5;28;01mreturn\u001b[39;00m io_open(file, \u001b[38;5;241m*\u001b[39margs, \u001b[38;5;241m*\u001b[39m\u001b[38;5;241m*\u001b[39mkwargs)\n",
      "\u001b[1;31mFileNotFoundError\u001b[0m: [Errno 2] No such file or directory: 'D:/code/python_code/ai/zhipu/confige.json'"
     ]
    }
   ],
   "source": [
    "from zhipuai import ZhipuAI\n",
    "import json\n",
    "\n",
    "# 读取配置文件\n",
    "confige_path = \"../confige.json\"\n",
    "with open(confige_path,\"r\",encoding=\"utf-8\") as f:\n",
    "    confige = json.load(f)  \n",
    "\n",
    "sourcefile_path = confige[\"sourcefile_path\"]\n",
    "aitrans_path = confige[\"aitrans_path\"]\n",
    "transjson_path = confige[\"transjson_path\"]\n"
   ]
  },
  {
   "cell_type": "markdown",
   "metadata": {},
   "source": [
    "通过智谱ai的api将源数据转换成（题目-选项-答案-解析）格式"
   ]
  },
  {
   "cell_type": "code",
   "execution_count": null,
   "metadata": {},
   "outputs": [],
   "source": [
    "client = ZhipuAI(api_key=\"297dc7f0e8dcbe31a21426081d8e9ee0.7OlrOM13fTTnhWdP\")\n",
    "\n",
    "\"\"\"\n",
    "    已经完成common1.txt\n",
    "    已经完成common7.txt\n",
    "    已经完成common6.txt\n",
    "    已完成common8.txt\n",
    "    已经完成common9.txt\n",
    "    已经完成common10.txt\n",
    "    已经完成common2.txt\n",
    "    已经完成common11.txt\n",
    "    已经完成common12.txt\n",
    "    已经完成common13.txt\n",
    "    已经完成common14.txt\n",
    "    已经完成common15.txt\n",
    "\"\"\"\n",
    "\n",
    "#获取文件行数，用于循环\n",
    "line_count = 0\n",
    "with open(sourcefile_path, \"r\", encoding=\"utf-8\") as f:\n",
    "    lines = f.readlines()\n",
    "    line_count = len(lines)\n",
    "\n",
    "#使用智谱ai的api将源数据转换成（题目-选项-答案-解析）格式\n",
    "for line in range(1, line_count):\n",
    "    content = \"我的要求：不要输出我说的话；格式:(题目:\\n选项:\\nA. \\nB. \\nC. \\nD. \\n答案:\\n解析:);每一个选项里都要有内容，解析只要一行，我提供的信息:\"\n",
    "    data = \"\"\n",
    "    with open(sourcefile_path, \"r\", encoding=\"utf-8\") as f:\n",
    "        data = lines[line-1]\n",
    "    messages = [{\"role\":\"user\",\"content\":content+data}]\n",
    "    response = client.chat.completions.create(messages= messages,model=\"glm-4-flash\")\n",
    "\n",
    "    #只录入正确格式的文件\n",
    "    result = response.choices[0].message.content\n",
    "    result = result.replace(\"\\n\\n\",\"\\n\")\n",
    "    question = result.split(\"\\n\")[0]\n",
    "    question_count = len(result.split(\"\\n\")[0])\n",
    "    if result.count(\"\\n\")==7 and question.count(\"题目:\")==1 and question_count>5:\n",
    "        with open(aitrans_path, \"a\", encoding=\"utf-8\") as f:\n",
    "            f.write(result+\"\\n\")\n",
    "                "
   ]
  },
  {
   "cell_type": "markdown",
   "metadata": {},
   "source": [
    "将文件格式转换成json格式"
   ]
  },
  {
   "cell_type": "code",
   "execution_count": 7,
   "metadata": {},
   "outputs": [],
   "source": [
    "def convert_to_json(file_path):\n",
    "    # 初始化一个空列表来存储数据\n",
    "    data = []\n",
    "\n",
    "    # 打开文件并逐行读取\n",
    "    with open(file_path, 'r', encoding='utf-8') as file:\n",
    "        lines = file.readlines()\n",
    "\n",
    "    # 初始化一个字典来存储当前问题的数据\n",
    "    current_question = {}\n",
    "\n",
    "    # 遍历每一行并处理它们\n",
    "    for i, line in enumerate(lines):\n",
    "        line = line.strip()  # 移除行首行尾的空白字符\n",
    "\n",
    "        # 根据行的位置确定其角色\n",
    "        if i % 8 == 0:\n",
    "            current_question['题目'] = line[3:] \n",
    "        elif i % 8 == 1:\n",
    "            current_question['选项'] = {}\n",
    "        elif i % 8 in [2, 3, 4, 5]:\n",
    "            option = line[0]  # 提取选项字母（A, B, C, 或 D）\n",
    "            current_question['选项'][option] = line[2:]  # 存储选项的内容\n",
    "        elif i % 8 == 6:\n",
    "            current_question['答案'] = line[3:] \n",
    "        elif i % 8 == 7:\n",
    "            current_question['解析'] = line[3:] \n",
    "            # 将当前问题添加到数据列表中并重置字典\n",
    "            data.append(current_question)\n",
    "            current_question = {}\n",
    "\n",
    "    # 将数据列表转换为JSON格式\n",
    "    json_data = json.dumps(data, ensure_ascii=False, indent=4)\n",
    "    return json_data\n",
    "\n",
    "with open(transjson_path, 'w', encoding='utf-8') as output_file:\n",
    "    output_file.write(convert_to_json(aitrans_path))\n"
   ]
  }
 ],
 "metadata": {
  "kernelspec": {
   "display_name": "inter",
   "language": "python",
   "name": "python3"
  },
  "language_info": {
   "codemirror_mode": {
    "name": "ipython",
    "version": 3
   },
   "file_extension": ".py",
   "mimetype": "text/x-python",
   "name": "python",
   "nbconvert_exporter": "python",
   "pygments_lexer": "ipython3",
   "version": "3.9.0"
  }
 },
 "nbformat": 4,
 "nbformat_minor": 2
}
