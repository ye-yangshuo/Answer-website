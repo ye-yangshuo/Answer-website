{
 "cells": [
  {
   "cell_type": "markdown",
   "metadata": {},
   "source": [
    "该代码用于获取数据。\n",
    "整体文件操作为：\n",
    "\n",
    "输入：原始数据文件。\n",
    "\n",
    "    属于国家一类保护动物的是：->天鹅,\n",
    "\n",
    "输出： json文件格式。\n",
    "    \n",
    "    {\n",
    "        \"题目\": \"五线谱是哪国人发明的？\",\n",
    "        \"选项\": {\n",
    "            \"A\": \" 德国\",\n",
    "            \"B\": \" 法国\",\n",
    "            \"C\": \" 意大利\",\n",
    "            \"D\": \" 英国\"\n",
    "        },\n",
    "        \"答案\": \" C\",\n",
    "        \"解析\": \"五线谱是由意大利人发明的。\"\n",
    "    },\n"
   ]
  },
  {
   "cell_type": "code",
   "execution_count": 1,
   "metadata": {},
   "outputs": [],
   "source": [
    "from zhipuai import ZhipuAI\n",
    "import json\n",
    "\n",
    "# 读取配置文件\n",
    "confige_path = \"../confige.json\"\n",
    "with open(confige_path,\"r\",encoding=\"utf-8\") as f:\n",
    "    confige = json.load(f)  \n",
    "\n",
    "sourcefile_path = confige[\"sourcefile_path\"]\n",
    "aitrans_path = confige[\"aitrans_path\"]\n",
    "transjson_path = confige[\"transjson_path\"]\n"
   ]
  },
  {
   "cell_type": "markdown",
   "metadata": {},
   "source": [
    "通过智谱ai的api将源数据转换成（题目-选项-答案-解析）格式"
   ]
  },
  {
   "cell_type": "code",
   "execution_count": null,
   "metadata": {},
   "outputs": [],
   "source": [
    "client = ZhipuAI(api_key=\"297dc7f0e8dcbe31a21426081d8e9ee0.7OlrOM13fTTnhWdP\")\n",
    "\n",
    "\"\"\"\n",
    "    已经完成common1.txt\n",
    "    已经完成common7.txt\n",
    "    已经完成common6.txt\n",
    "    已完成common8.txt\n",
    "    已经完成common9.txt\n",
    "    已经完成common10.txt\n",
    "    已经完成common2.txt\n",
    "    已经完成common11.txt\n",
    "    已经完成common12.txt\n",
    "    已经完成common13.txt\n",
    "    已经完成common14.txt\n",
    "    已经完成common15.txt\n",
    "\"\"\"\n",
    "\n",
    "#获取文件行数，用于循环\n",
    "line_count = 0\n",
    "with open(sourcefile_path, \"r\", encoding=\"utf-8\") as f:\n",
    "    lines = f.readlines()\n",
    "    line_count = len(lines)\n",
    "\n",
    "#使用智谱ai的api将源数据转换成（题目-选项-答案-解析）格式\n",
    "for line in range(1, line_count):\n",
    "    content = \"我的要求：不要输出我说的话；格式:(题目:\\n选项:\\nA. \\nB. \\nC. \\nD. \\n答案:\\n解析:);每一个选项里都要有内容，解析只要一行，我提供的信息:\"\n",
    "    data = \"\"\n",
    "    with open(sourcefile_path, \"r\", encoding=\"utf-8\") as f:\n",
    "        data = lines[line-1]\n",
    "    messages = [{\"role\":\"user\",\"content\":content+data}]\n",
    "    response = client.chat.completions.create(messages= messages,model=\"glm-4-flash\")\n",
    "\n",
    "    #只录入正确格式的文件\n",
    "    result = response.choices[0].message.content\n",
    "    result = result.replace(\"\\n\\n\",\"\\n\")\n",
    "    question = result.split(\"\\n\")[0]\n",
    "    question_count = len(result.split(\"\\n\")[0])\n",
    "    if result.count(\"\\n\")==7 and question.count(\"题目:\")==1 and question_count>5:\n",
    "        with open(aitrans_path, \"a\", encoding=\"utf-8\") as f:\n",
    "            f.write(result+\"\\n\")\n",
    "                "
   ]
  },
  {
   "cell_type": "markdown",
   "metadata": {},
   "source": [
    "将txt格式的数据转换成json格式的数据"
   ]
  },
  {
   "cell_type": "code",
   "execution_count": 7,
   "metadata": {},
   "outputs": [],
   "source": [
    "def convert_to_json(file_path):\n",
    "\n",
    "    data = []\n",
    "    with open(file_path, 'r', encoding='utf-8') as file:\n",
    "        lines = file.readlines()\n",
    "    current_question = {}\n",
    "    for i, line in enumerate(lines):\n",
    "        line = line.strip()  \n",
    "        if i % 8 == 0:\n",
    "            current_question['题目'] = line[3:] \n",
    "        elif i % 8 == 1:\n",
    "            current_question['选项'] = {}\n",
    "        elif i % 8 in [2, 3, 4, 5]:\n",
    "            option = line[0]  \n",
    "            current_question['选项'][option] = line[2:] \n",
    "        elif i % 8 == 6:\n",
    "            current_question['答案'] = line[3:] \n",
    "        elif i % 8 == 7:\n",
    "            current_question['解析'] = line[3:] \n",
    "            data.append(current_question)\n",
    "            current_question = {}\n",
    "\n",
    "    # 将数据列表转换为JSON格式\n",
    "    json_data = json.dumps(data, ensure_ascii=False, indent=4)\n",
    "    return json_data\n"
   ]
  },
  {
   "cell_type": "markdown",
   "metadata": {},
   "source": [
    "将json格式数据写入json文件中"
   ]
  },
  {
   "cell_type": "code",
   "execution_count": null,
   "metadata": {},
   "outputs": [],
   "source": [
    "with open(transjson_path, 'w', encoding='utf-8') as output_file:\n",
    "    output_file.write(convert_to_json(aitrans_path))\n"
   ]
  }
 ],
 "metadata": {
  "kernelspec": {
   "display_name": "inter",
   "language": "python",
   "name": "python3"
  },
  "language_info": {
   "codemirror_mode": {
    "name": "ipython",
    "version": 3
   },
   "file_extension": ".py",
   "mimetype": "text/x-python",
   "name": "python",
   "nbconvert_exporter": "python",
   "pygments_lexer": "ipython3",
   "version": "3.9.0"
  }
 },
 "nbformat": 4,
 "nbformat_minor": 2
}
